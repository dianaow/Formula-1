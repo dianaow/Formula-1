{
 "cells": [
  {
   "cell_type": "code",
   "execution_count": 75,
   "metadata": {
    "collapsed": true
   },
   "outputs": [],
   "source": [
    "from selenium import webdriver"
   ]
  },
  {
   "cell_type": "code",
   "execution_count": 87,
   "metadata": {
    "collapsed": true
   },
   "outputs": [],
   "source": [
    "years = [\"2015\", \"2016\", \"2017\"]\n",
    "races = []\n",
    "\n",
    "for year in years:\n",
    "    for i in range(20):\n",
    "        page = \"https://www.fia.com/events/fia-formula-one-world-championship/season-\" + year + \"/event-timing-information-\" + str(i)\n",
    "        races.append(page)"
   ]
  },
  {
   "cell_type": "code",
   "execution_count": 90,
   "metadata": {},
   "outputs": [],
   "source": [
    "def download_pdfs(races, link_name, download_to_location):\n",
    "    \n",
    "    profile = webdriver.FirefoxProfile()\n",
    "    profile.set_preference(\"browser.helperApps.neverAsk.saveToDisk\", \"text/plain,application/octet-stream,application/pdf,application/x-pdf,application/vnd.pdf\")\n",
    "    profile.set_preference(\"browser.download.manager.showWhenStarting\",False)\n",
    "    profile.set_preference(\"browser.helperApps.neverAsk.openFile\",\"text/plain,application/octet-stream,application/pdf,application/x-pdf,application/vnd.pdf\")\n",
    "    profile.set_preference(\"browser.helperApps.alwaysAsk.force\", False)\n",
    "    profile.set_preference(\"browser.download.manager.useWindow\", False)\n",
    "    profile.set_preference(\"browser.download.manager.focusWhenStarting\", False)\n",
    "    profile.set_preference(\"browser.helperApps.neverAsk.openFile\", \"\");\n",
    "    profile.set_preference(\"browser.download.manager.alertOnEXEOpen\", False);\n",
    "    profile.set_preference(\"browser.download.manager.showAlertOnComplete\", False);\n",
    "    profile.set_preference(\"browser.download.manager.closeWhenDone\", True);\n",
    "    profile.set_preference(\"pdfjs.disabled\", True);\n",
    "    browser = webdriver.Firefox(profile)\n",
    " \n",
    "    for race in races:\n",
    "        browser.get(race)\n",
    "        try:\n",
    "            browser.find_element_by_link_text(download_from_xpaths).click()\n",
    "        except:\n",
    "            \"cannot download pdf:\" + str(race)"
   ]
  },
  {
   "cell_type": "code",
   "execution_count": 91,
   "metadata": {},
   "outputs": [],
   "source": [
    "# Download Speed Trap PDFs\n",
    "download_pdfs(races, \"Speed Trap\", download_to_location)"
   ]
  },
  {
   "cell_type": "code",
   "execution_count": null,
   "metadata": {
    "collapsed": true
   },
   "outputs": [],
   "source": [
    "# Download Qualifying & FP2 Lap Times PDFs\n",
    "download_pdfs(races, \"Lap Times\", download_to_location)"
   ]
  }
 ],
 "metadata": {
  "kernelspec": {
   "display_name": "Python 2",
   "language": "python",
   "name": "python2"
  },
  "language_info": {
   "codemirror_mode": {
    "name": "ipython",
    "version": 2
   },
   "file_extension": ".py",
   "mimetype": "text/x-python",
   "name": "python",
   "nbconvert_exporter": "python",
   "pygments_lexer": "ipython2",
   "version": "2.7.14"
  }
 },
 "nbformat": 4,
 "nbformat_minor": 2
}
